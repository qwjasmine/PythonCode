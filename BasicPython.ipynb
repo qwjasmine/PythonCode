{
 "cells": [
  {
   "cell_type": "code",
   "execution_count": 1,
   "id": "ded67f52",
   "metadata": {},
   "outputs": [],
   "source": [
    "import numpy as np"
   ]
  },
  {
   "cell_type": "code",
   "execution_count": 2,
   "id": "475bde56",
   "metadata": {},
   "outputs": [],
   "source": [
    "import pandas as pd"
   ]
  },
  {
   "cell_type": "code",
   "execution_count": 3,
   "id": "d555e0e6",
   "metadata": {},
   "outputs": [],
   "source": [
    "import matplotlib.pyplot as plt"
   ]
  },
  {
   "cell_type": "code",
   "execution_count": 4,
   "id": "72883b26",
   "metadata": {},
   "outputs": [],
   "source": [
    "import statsmodels.api as sm"
   ]
  },
  {
   "cell_type": "code",
   "execution_count": 1,
   "id": "21ff5d68",
   "metadata": {},
   "outputs": [],
   "source": [
    "cars = 100\n",
    "space_in_a_car = 4.0\n",
    "drivers = 30\n",
    "passengers = 90\n",
    "cars_not_driven = cars - drivers\n",
    "cars_driven = drivers\n",
    "carpool_capacity = cars_driven * space_in_a_car\n",
    "average_passengers_per_car = passengers / cars_driven"
   ]
  },
  {
   "cell_type": "code",
   "execution_count": 2,
   "id": "976ddf55",
   "metadata": {},
   "outputs": [
    {
     "name": "stdout",
     "output_type": "stream",
     "text": [
      "There are 100 cars available\n",
      "There are only 30 drivers available\n",
      "There will be 70 empty cars today.\n",
      "We can transport 120.0 people today.\n",
      "We have 90 to carpool today.\n",
      "We need to put about 3.0 in each car.\n"
     ]
    }
   ],
   "source": [
    "print ('There are', cars, 'cars available')\n",
    "print ('There are only', drivers, 'drivers available')\n",
    "print ('There will be', cars_not_driven, 'empty cars today.')\n",
    "print ('We can transport', carpool_capacity, 'people today.')\n",
    "print ('We have', passengers, 'to carpool today.')\n",
    "print ('We need to put about', average_passengers_per_car, 'in each car.')"
   ]
  },
  {
   "cell_type": "code",
   "execution_count": 8,
   "id": "36a460ba",
   "metadata": {},
   "outputs": [],
   "source": [
    "name = 'Zed A. Shaw'\n",
    "age = 35\n",
    "height = 74\n",
    "weight = 180\n",
    "eyes = 'Blue'\n",
    "teeth = 'White'\n",
    "hair = 'Brown'"
   ]
  },
  {
   "cell_type": "code",
   "execution_count": 9,
   "id": "5f3ca9a0",
   "metadata": {},
   "outputs": [
    {
     "name": "stdout",
     "output_type": "stream",
     "text": [
      "Let's talk about Zed A. Shaw.\n",
      "He's 74 inches tall.\n",
      "He's 180 pounds heavey.\n",
      "Actually that's not too heavy.\n",
      "He's got Blue eyes and Brown hair.\n",
      "His teeth are usually White depending on the coffee.\n"
     ]
    }
   ],
   "source": [
    "print (f\"Let's talk about {name}.\")\n",
    "print (f\"He's {height} inches tall.\")\n",
    "print (f\"He's {weight} pounds heavey.\")\n",
    "print (\"Actually that's not too heavy.\")\n",
    "print (f\"He's got {eyes} eyes and {hair} hair.\")\n",
    "print (f\"His teeth are usually {teeth} depending on the coffee.\" )"
   ]
  },
  {
   "cell_type": "code",
   "execution_count": 11,
   "id": "f912c463",
   "metadata": {},
   "outputs": [
    {
     "data": {
      "text/plain": [
       "1.733"
      ]
     },
     "execution_count": 11,
     "metadata": {},
     "output_type": "execute_result"
    }
   ],
   "source": [
    "round (1.73333, 3)"
   ]
  },
  {
   "cell_type": "code",
   "execution_count": 12,
   "id": "d5e8011a",
   "metadata": {},
   "outputs": [
    {
     "name": "stdout",
     "output_type": "stream",
     "text": [
      "Mary had a little lamb.\n",
      "Its fleece was white as snow.\n",
      "And everywhere that Mary went.\n",
      "..........\n"
     ]
    }
   ],
   "source": [
    "print (\"Mary had a little lamb.\")\n",
    "print (\"Its fleece was white as {}.\".format ('snow'))\n",
    "print (\"And everywhere that Mary went.\")\n",
    "print (\".\" * 10)"
   ]
  },
  {
   "cell_type": "code",
   "execution_count": 20,
   "id": "4ac3a437",
   "metadata": {},
   "outputs": [],
   "source": [
    "end1 = \"C\"\n",
    "end2 = \"h\"\n",
    "end3 = \"e\"\n",
    "end4 = \"e\"\n",
    "end5 = \"s\"\n",
    "end6 = \"e \"\n",
    "end7 = \"B\"\n",
    "end8 = \"u\"\n",
    "end9 = \"r\"\n",
    "end10 = \"g\"\n",
    "end11 = \"e\"\n",
    "end12 = \"r\""
   ]
  },
  {
   "cell_type": "code",
   "execution_count": 21,
   "id": "c32d0661",
   "metadata": {},
   "outputs": [
    {
     "name": "stdout",
     "output_type": "stream",
     "text": [
      "C h e e s e  B u r g e r "
     ]
    }
   ],
   "source": [
    "print (end1, end2, end3, end4, end5, end6, end7, end8, end9, end10, end11, end12, end = ' ')"
   ]
  },
  {
   "cell_type": "code",
   "execution_count": 2,
   "id": "57d8f8b0",
   "metadata": {},
   "outputs": [
    {
     "name": "stdout",
     "output_type": "stream",
     "text": [
      "1 2 3 4\n",
      "one two three four\n",
      "{} {} {} {} {} {} {} {} {} {} {} {} {} {} {} {}\n",
      "Try your Own text here Maybe a poem Or a song about fear\n"
     ]
    }
   ],
   "source": [
    "formatter= \"{} {} {} {}\"\n",
    "\n",
    "print (formatter.format (1,2,3,4))\n",
    "print (formatter.format (\"one\", \"two\", \"three\",\"four\"))\n",
    "print (formatter.format (formatter, formatter, formatter, formatter))\n",
    "print (formatter.format(\n",
    "       \"Try your\",\n",
    "       \"Own text here\",\n",
    "        \"Maybe a poem\",\n",
    "        \"Or a song about fear\"))"
   ]
  },
  {
   "cell_type": "code",
   "execution_count": 4,
   "id": "13a0027f",
   "metadata": {},
   "outputs": [
    {
     "name": "stdout",
     "output_type": "stream",
     "text": [
      "Here are the days: Mon Tue Wed Thu Fri Sat Sun\n",
      "Here are the months: \n",
      "Jan\n",
      "Feb\n",
      "Apr\n",
      "May\n",
      "Jun\n",
      "Jul\n",
      "Aug\n",
      "\n",
      "There's something going on here.\n",
      "With the three double-quotes.\n",
      "We'll be able to type as much as we like.\n",
      "Even 4 lines if we want, or 5, or 6.\n",
      "\n"
     ]
    }
   ],
   "source": [
    "days = \"Mon Tue Wed Thu Fri Sat Sun\"\n",
    "months = \"\\nJan\\nFeb\\nApr\\nMay\\nJun\\nJul\\nAug\"\n",
    "print (\"Here are the days:\", days)\n",
    "print (\"Here are the months:\", months)\n",
    "\n",
    "print(\"\"\"\n",
    "There's something going on here.\n",
    "With the three double-quotes.\n",
    "We'll be able to type as much as we like.\n",
    "Even 4 lines if we want, or 5, or 6.\n",
    "\"\"\")"
   ]
  },
  {
   "cell_type": "code",
   "execution_count": 2,
   "id": "f454cd69",
   "metadata": {},
   "outputs": [
    {
     "name": "stdout",
     "output_type": "stream",
     "text": [
      "How old are you? 36\n",
      "How tall are you? 5'3\n",
      "How much do you weigh? 100lbs\n",
      "So, you're 36 old, 5'3 tall and 100lbs heavy.\n"
     ]
    }
   ],
   "source": [
    "age= input(\"How old are you? \")\n",
    "height = input (\"How tall are you? \")\n",
    "weight = input (\"How much do you weigh? \")\n",
    "print (f\"So, you're {age} old, {height} tall and {weight} heavy.\")"
   ]
  },
  {
   "cell_type": "code",
   "execution_count": 17,
   "id": "a1ecf3c6",
   "metadata": {},
   "outputs": [
    {
     "ename": "SyntaxError",
     "evalue": "invalid syntax (<ipython-input-17-b20253534eaa>, line 1)",
     "output_type": "error",
     "traceback": [
      "\u001b[1;36m  File \u001b[1;32m\"<ipython-input-17-b20253534eaa>\"\u001b[1;36m, line \u001b[1;32m1\u001b[0m\n\u001b[1;33m    from python3.6 import ex13.py\u001b[0m\n\u001b[1;37m                ^\u001b[0m\n\u001b[1;31mSyntaxError\u001b[0m\u001b[1;31m:\u001b[0m invalid syntax\n"
     ]
    }
   ],
   "source": [
    "from sys import argv\n",
    "script,first, second, third = argv\n",
    "print(\"The script is called:\", script)\n",
    "print(\"The first variable is:\", first)\n",
    "print(\"The second variable is:\", second)\n",
    "print(\"The third variable is:\", third)"
   ]
  },
  {
   "cell_type": "code",
   "execution_count": null,
   "id": "eabfd03d",
   "metadata": {},
   "outputs": [],
   "source": []
  }
 ],
 "metadata": {
  "kernelspec": {
   "display_name": "Python 3",
   "language": "python",
   "name": "python3"
  },
  "language_info": {
   "codemirror_mode": {
    "name": "ipython",
    "version": 3
   },
   "file_extension": ".py",
   "mimetype": "text/x-python",
   "name": "python",
   "nbconvert_exporter": "python",
   "pygments_lexer": "ipython3",
   "version": "3.8.8"
  }
 },
 "nbformat": 4,
 "nbformat_minor": 5
}
